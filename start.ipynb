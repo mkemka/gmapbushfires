{
 "cells": [
  {
   "cell_type": "code",
   "execution_count": 56,
   "metadata": {},
   "outputs": [],
   "source": [
    "import gmplot\n",
    "import xml.etree.ElementTree as ET\n",
    "import requests\n",
    "import time"
   ]
  },
  {
   "cell_type": "code",
   "execution_count": 57,
   "metadata": {},
   "outputs": [],
   "source": [
    "try:\n",
    "    with open('google_maps_key.txt', 'r') as f:\n",
    "        text = f.read()\n",
    "    google_maps_key = \"\".join(text)[0:39]\n",
    "except:\n",
    "    google_maps_key = input()"
   ]
  },
  {
   "cell_type": "markdown",
   "metadata": {},
   "source": [
    "## Get the data\n",
    "\n",
    "Get the xml file from the RSS of the NSW RFS. Extract elements of interest and multiple polys of the areas.\n",
    "\n",
    "Add the data to a results list."
   ]
  },
  {
   "cell_type": "code",
   "execution_count": 58,
   "metadata": {},
   "outputs": [],
   "source": [
    "xml = requests.get('http://www.rfs.nsw.gov.au/feeds/majorIncidents.xml').text\n",
    "\n",
    "filetime = time.strftime('%b-%d-%Y_%H%M', time.localtime())\n",
    "\n",
    "with open(f\"majorIncidents-{filetime}.txt\", 'w') as f:\n",
    "    f.write(xml)\n",
    "\n",
    "root = ET.fromstring(xml)\n",
    "results = []\n",
    "for child in root:\n",
    "    for ch0 in child:\n",
    "        if ch0.tag == 'item':\n",
    "            \n",
    "            poly = []\n",
    "            for ch1 in ch0:\n",
    "                #print(ch1.tag, ch1.text)\n",
    "                if ch1.tag == 'title':\n",
    "                    title = ch1.text\n",
    "                if ch1.tag == 'pubDate':\n",
    "                    pubdate = ch1.text\n",
    "                if ch1.tag == 'category':\n",
    "                    category = ch1.text\n",
    "                if ch1.tag == '{http://www.georss.org/georss}point':\n",
    "                    point = ch1.text\n",
    "                if ch1.tag == \"{http://www.georss.org/georss}polygon\":\n",
    "                    poly.append(ch1.text)\n",
    "    \n",
    "            results.append([title,pubdate,category,poly,point])\n",
    "    "
   ]
  },
  {
   "cell_type": "code",
   "execution_count": 59,
   "metadata": {},
   "outputs": [
    {
     "name": "stdout",
     "output_type": "stream",
     "text": [
      "There are 79 areas of interest.\n"
     ]
    }
   ],
   "source": [
    "print(f\"There are {len(results)} areas of interest.\")"
   ]
  },
  {
   "cell_type": "code",
   "execution_count": 68,
   "metadata": {},
   "outputs": [
    {
     "name": "stdout",
     "output_type": "stream",
     "text": [
      "The number of Emergency Warnings is: 0\n"
     ]
    }
   ],
   "source": [
    "print(f\"The number of Emergency Warnings is: {sum([item[2] == 'Emergency Warning' for item in results])}\")"
   ]
  },
  {
   "cell_type": "code",
   "execution_count": 60,
   "metadata": {},
   "outputs": [
    {
     "name": "stdout",
     "output_type": "stream",
     "text": [
      "[-34.196428171822674, 150.09933012954335]\n"
     ]
    }
   ],
   "source": [
    "# Get the centroid of all of the points for the events. This is to set the starting point for the map.\n",
    "_ = []\n",
    "\n",
    "# For the long and the lat get the average\n",
    "for i in range(0,2):\n",
    "    _.append([float(y[i]) for y in [ x[4].split(' ') for x in results]])\n",
    "\n",
    "centroid_long_lat = [sum(x) / len(x) for x in _]\n",
    "print(centroid_long_lat)"
   ]
  },
  {
   "cell_type": "code",
   "execution_count": 61,
   "metadata": {},
   "outputs": [],
   "source": [
    "colours = {'Emergency Warning': 'red', 'Watch and Act' : 'orange', 'Advice' : 'blue'}"
   ]
  },
  {
   "cell_type": "code",
   "execution_count": null,
   "metadata": {},
   "outputs": [],
   "source": []
  },
  {
   "cell_type": "code",
   "execution_count": 62,
   "metadata": {},
   "outputs": [],
   "source": [
    "gmap = gmplot.GoogleMapPlotter(centroid_long_lat[0], centroid_long_lat[1], 8)\n",
    "\n",
    "gmap.apikey = google_maps_key\n",
    "\n",
    "for item in results:\n",
    "    \n",
    "    # convert strings to list of floats.\n",
    "    \n",
    "    # start\n",
    "    polys = [\n",
    "\n",
    "    [[float(z) for z in y.split(' ')[::2]], [float(z) for z in y.split(' ')[::-2]]]\n",
    "\n",
    "    for y in item[3]]\n",
    "    # end\n",
    "    \n",
    "    for poly in polys:\n",
    "        gmap.polygon(poly[0], poly[1], color = colours[item[2]])\n",
    "\n",
    "mapname = f\"map-{filetime}.html\"\n",
    "gmap.draw(mapname)"
   ]
  },
  {
   "cell_type": "code",
   "execution_count": 63,
   "metadata": {},
   "outputs": [
    {
     "data": {
      "text/html": [
       "\n",
       "        <iframe\n",
       "            width=\"700\"\n",
       "            height=\"600\"\n",
       "            src=\"map-Feb-02-2020_0919.html\"\n",
       "            frameborder=\"0\"\n",
       "            allowfullscreen\n",
       "        ></iframe>\n",
       "        "
      ],
      "text/plain": [
       "<IPython.lib.display.IFrame at 0x10c0606d8>"
      ]
     },
     "execution_count": 63,
     "metadata": {},
     "output_type": "execute_result"
    }
   ],
   "source": [
    "from IPython.display import IFrame\n",
    "\n",
    "IFrame(src=mapname, width=700, height=600)"
   ]
  },
  {
   "cell_type": "code",
   "execution_count": null,
   "metadata": {},
   "outputs": [],
   "source": []
  }
 ],
 "metadata": {
  "kernelspec": {
   "display_name": "Python 3",
   "language": "python",
   "name": "python3"
  },
  "language_info": {
   "codemirror_mode": {
    "name": "ipython",
    "version": 3
   },
   "file_extension": ".py",
   "mimetype": "text/x-python",
   "name": "python",
   "nbconvert_exporter": "python",
   "pygments_lexer": "ipython3",
   "version": "3.7.3"
  }
 },
 "nbformat": 4,
 "nbformat_minor": 2
}
